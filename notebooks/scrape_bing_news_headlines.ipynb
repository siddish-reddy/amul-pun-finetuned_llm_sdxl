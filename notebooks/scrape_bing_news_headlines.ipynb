{
 "cells": [
  {
   "cell_type": "code",
   "execution_count": 87,
   "metadata": {},
   "outputs": [],
   "source": [
    "import time\n",
    "import re\n",
    "import requests\n",
    "\n",
    "\n",
    "def clean_html(text):\n",
    "    clean = re.compile('<.*?>')\n",
    "    return re.sub(clean, '', text)\n",
    "\n",
    "\n",
    "subscription_key = \"\"\n",
    "\n",
    "def get_search_results(search_term, month, year):\n",
    "\n",
    "    search_url = \"https://api.bing.microsoft.com/v7.0/news/search\"\n",
    "\n",
    "    start_date = f\"{year}-{month-1:02d}-15\"\n",
    "    start_epoch = int(time.mktime(time.strptime(start_date, '%Y-%m-%d')))\n",
    "\n",
    "    headers = {\"Ocp-Apim-Subscription-Key\" : subscription_key}\n",
    "    params  = {\n",
    "        \"q\": search_term,\n",
    "        \"textDecorations\": True,\n",
    "        \"textFormat\": \"HTML\",\n",
    "        \"since\": start_epoch,\n",
    "        \"sortBy\": \"Date\",\n",
    "        \"count\": 1\n",
    "}\n",
    "\n",
    "    response = requests.get(search_url, headers=headers, params=params)\n",
    "    response.raise_for_status()\n",
    "    search_results = response.json()\n",
    "    search_results = response.json()\n",
    "    if not search_results[\"value\"]:\n",
    "        return search_term, \"\"\n",
    "    name = clean_html([article[\"name\"] for article in search_results[\"value\"]][0])\n",
    "    description = clean_html([article[\"description\"] for article in search_results[\"value\"]][0])\n",
    "    return name, description\n",
    "    "
   ]
  },
  {
   "cell_type": "code",
   "execution_count": null,
   "metadata": {},
   "outputs": [],
   "source": []
  },
  {
   "cell_type": "code",
   "execution_count": 88,
   "metadata": {},
   "outputs": [
    {
     "data": {
      "text/plain": [
       "('Doctor, happy icon',\n",
       " 'Use it commercially. No attribution required. Ready to use in multiple sizes Modify colors using the color editor 1 credit needed as a Pro subscriber. Download with ...')"
      ]
     },
     "execution_count": 88,
     "metadata": {},
     "output_type": "execute_result"
    }
   ],
   "source": [
    "get_search_results(\"Happy Doctor’s Day!  - (July’ 22).Doc doc karne lagga…\", 7, 2022)"
   ]
  },
  {
   "cell_type": "code",
   "execution_count": 89,
   "metadata": {},
   "outputs": [
    {
     "data": {
      "text/plain": [
       "('Doctor, happy icon',\n",
       " 'Use it commercially. No attribution required. Ready to use in multiple sizes Modify colors using the color editor 1 credit needed as a Pro subscriber. Download with ...')"
      ]
     },
     "execution_count": 89,
     "metadata": {},
     "output_type": "execute_result"
    }
   ],
   "source": [
    "get_search_results(\"Happy Doctor’s Day! Doc doc karne lagga…\", 7, 2022)"
   ]
  },
  {
   "cell_type": "code",
   "execution_count": 90,
   "metadata": {},
   "outputs": [
    {
     "data": {
      "text/plain": [
       "('Happy Doctor’s Day!', '')"
      ]
     },
     "execution_count": 90,
     "metadata": {},
     "output_type": "execute_result"
    }
   ],
   "source": [
    "get_search_results(\"Happy Doctor’s Day!\", 7, 2022)"
   ]
  },
  {
   "cell_type": "code",
   "execution_count": 40,
   "metadata": {},
   "outputs": [
    {
     "data": {
      "text/html": [
       "<div>\n",
       "<style scoped>\n",
       "    .dataframe tbody tr th:only-of-type {\n",
       "        vertical-align: middle;\n",
       "    }\n",
       "\n",
       "    .dataframe tbody tr th {\n",
       "        vertical-align: top;\n",
       "    }\n",
       "\n",
       "    .dataframe thead th {\n",
       "        text-align: right;\n",
       "    }\n",
       "</style>\n",
       "<table border=\"1\" class=\"dataframe\">\n",
       "  <thead>\n",
       "    <tr style=\"text-align: right;\">\n",
       "      <th></th>\n",
       "      <th>Year</th>\n",
       "      <th>Description</th>\n",
       "      <th>Image Alt</th>\n",
       "      <th>Image Link</th>\n",
       "    </tr>\n",
       "  </thead>\n",
       "  <tbody>\n",
       "    <tr>\n",
       "      <th>0</th>\n",
       "      <td>2023</td>\n",
       "      <td>The Aussie all-rounder played one of ODI’s gre...</td>\n",
       "      <td>LeGlennndary!</td>\n",
       "      <td>https://amul.com/files/hits/amul-hits-3411.jpg</td>\n",
       "    </tr>\n",
       "    <tr>\n",
       "      <th>1</th>\n",
       "      <td>2023</td>\n",
       "      <td>Our two batting superstars are level at 49 ODI...</td>\n",
       "      <td>Kohli matches Tondukar!</td>\n",
       "      <td>https://amul.com/files/hits/amul-hits-3410.jpg</td>\n",
       "    </tr>\n",
       "    <tr>\n",
       "      <th>2</th>\n",
       "      <td>2023</td>\n",
       "      <td>The latest meme to trend the internet… - (Nov’...</td>\n",
       "      <td>Just cooking like a wow!</td>\n",
       "      <td>https://amul.com/files/hits/amul-hits-3409.jpg</td>\n",
       "    </tr>\n",
       "    <tr>\n",
       "      <th>3</th>\n",
       "      <td>2023</td>\n",
       "      <td>India’s great opening bowler helps India reach...</td>\n",
       "      <td>Shami- finals!</td>\n",
       "      <td>https://amul.com/files/hits/amul-hits-3408.jpg</td>\n",
       "    </tr>\n",
       "    <tr>\n",
       "      <th>4</th>\n",
       "      <td>2023</td>\n",
       "      <td>Tendulkar’s statue built at Wankhede Stadium! ...</td>\n",
       "      <td>Sachin wahan – khade -hai</td>\n",
       "      <td>https://amul.com/files/hits/amul-hits-3407.jpg</td>\n",
       "    </tr>\n",
       "  </tbody>\n",
       "</table>\n",
       "</div>"
      ],
      "text/plain": [
       "   Year                                        Description  \\\n",
       "0  2023  The Aussie all-rounder played one of ODI’s gre...   \n",
       "1  2023  Our two batting superstars are level at 49 ODI...   \n",
       "2  2023  The latest meme to trend the internet… - (Nov’...   \n",
       "3  2023  India’s great opening bowler helps India reach...   \n",
       "4  2023  Tendulkar’s statue built at Wankhede Stadium! ...   \n",
       "\n",
       "                   Image Alt                                      Image Link  \n",
       "0              LeGlennndary!  https://amul.com/files/hits/amul-hits-3411.jpg  \n",
       "1    Kohli matches Tondukar!  https://amul.com/files/hits/amul-hits-3410.jpg  \n",
       "2   Just cooking like a wow!  https://amul.com/files/hits/amul-hits-3409.jpg  \n",
       "3             Shami- finals!  https://amul.com/files/hits/amul-hits-3408.jpg  \n",
       "4  Sachin wahan – khade -hai  https://amul.com/files/hits/amul-hits-3407.jpg  "
      ]
     },
     "execution_count": 40,
     "metadata": {},
     "output_type": "execute_result"
    }
   ],
   "source": [
    "import pandas as pd\n",
    "\n",
    "amul_hits = pd.read_csv(\"amul_hits.csv\")\n",
    "amul_hits.head()"
   ]
  },
  {
   "cell_type": "code",
   "execution_count": 45,
   "metadata": {},
   "outputs": [
    {
     "data": {
      "text/plain": [
       "-1"
      ]
     },
     "execution_count": 45,
     "metadata": {},
     "output_type": "execute_result"
    }
   ],
   "source": [
    "test = \"\"\n",
    "test.rfind(\"-\")"
   ]
  },
  {
   "cell_type": "code",
   "execution_count": 47,
   "metadata": {},
   "outputs": [],
   "source": [
    "months = []\n",
    "\n",
    "month_map = {\n",
    "    \"jan\": 1,\n",
    "    \"feb\": 2,\n",
    "    \"mar\": 3,\n",
    "    \"apr\": 4,\n",
    "    \"may\": 5,\n",
    "    \"june\": 6,\n",
    "    \"july\": 7,\n",
    "    \"aug\": 8,\n",
    "    \"sep\": 9,\n",
    "    \"oct\": 10,\n",
    "    \"nov\": 11,\n",
    "    \"dec\": 12,\n",
    "}\n",
    "\n",
    "for description in amul_hits[\"Description\"]:\n",
    "    month = 1\n",
    "    for month in month_map:\n",
    "        if month in description.lower():\n",
    "            month = month_map[month]\n",
    "            break\n",
    "    months.append(month)\n",
    "    \n",
    "    "
   ]
  },
  {
   "cell_type": "code",
   "execution_count": 48,
   "metadata": {},
   "outputs": [],
   "source": [
    "amul_hits[\"Month\"] = months\n"
   ]
  },
  {
   "cell_type": "code",
   "execution_count": 49,
   "metadata": {},
   "outputs": [
    {
     "data": {
      "text/html": [
       "<div>\n",
       "<style scoped>\n",
       "    .dataframe tbody tr th:only-of-type {\n",
       "        vertical-align: middle;\n",
       "    }\n",
       "\n",
       "    .dataframe tbody tr th {\n",
       "        vertical-align: top;\n",
       "    }\n",
       "\n",
       "    .dataframe thead th {\n",
       "        text-align: right;\n",
       "    }\n",
       "</style>\n",
       "<table border=\"1\" class=\"dataframe\">\n",
       "  <thead>\n",
       "    <tr style=\"text-align: right;\">\n",
       "      <th></th>\n",
       "      <th>Year</th>\n",
       "      <th>Description</th>\n",
       "      <th>Image Alt</th>\n",
       "      <th>Image Link</th>\n",
       "      <th>Month</th>\n",
       "    </tr>\n",
       "  </thead>\n",
       "  <tbody>\n",
       "    <tr>\n",
       "      <th>0</th>\n",
       "      <td>2023</td>\n",
       "      <td>The Aussie all-rounder played one of ODI’s gre...</td>\n",
       "      <td>LeGlennndary!</td>\n",
       "      <td>https://amul.com/files/hits/amul-hits-3411.jpg</td>\n",
       "      <td>11</td>\n",
       "    </tr>\n",
       "    <tr>\n",
       "      <th>1</th>\n",
       "      <td>2023</td>\n",
       "      <td>Our two batting superstars are level at 49 ODI...</td>\n",
       "      <td>Kohli matches Tondukar!</td>\n",
       "      <td>https://amul.com/files/hits/amul-hits-3410.jpg</td>\n",
       "      <td>11</td>\n",
       "    </tr>\n",
       "    <tr>\n",
       "      <th>2</th>\n",
       "      <td>2023</td>\n",
       "      <td>The latest meme to trend the internet… - (Nov’...</td>\n",
       "      <td>Just cooking like a wow!</td>\n",
       "      <td>https://amul.com/files/hits/amul-hits-3409.jpg</td>\n",
       "      <td>11</td>\n",
       "    </tr>\n",
       "    <tr>\n",
       "      <th>3</th>\n",
       "      <td>2023</td>\n",
       "      <td>India’s great opening bowler helps India reach...</td>\n",
       "      <td>Shami- finals!</td>\n",
       "      <td>https://amul.com/files/hits/amul-hits-3408.jpg</td>\n",
       "      <td>11</td>\n",
       "    </tr>\n",
       "    <tr>\n",
       "      <th>4</th>\n",
       "      <td>2023</td>\n",
       "      <td>Tendulkar’s statue built at Wankhede Stadium! ...</td>\n",
       "      <td>Sachin wahan – khade -hai</td>\n",
       "      <td>https://amul.com/files/hits/amul-hits-3407.jpg</td>\n",
       "      <td>11</td>\n",
       "    </tr>\n",
       "  </tbody>\n",
       "</table>\n",
       "</div>"
      ],
      "text/plain": [
       "   Year                                        Description  \\\n",
       "0  2023  The Aussie all-rounder played one of ODI’s gre...   \n",
       "1  2023  Our two batting superstars are level at 49 ODI...   \n",
       "2  2023  The latest meme to trend the internet… - (Nov’...   \n",
       "3  2023  India’s great opening bowler helps India reach...   \n",
       "4  2023  Tendulkar’s statue built at Wankhede Stadium! ...   \n",
       "\n",
       "                   Image Alt                                      Image Link  \\\n",
       "0              LeGlennndary!  https://amul.com/files/hits/amul-hits-3411.jpg   \n",
       "1    Kohli matches Tondukar!  https://amul.com/files/hits/amul-hits-3410.jpg   \n",
       "2   Just cooking like a wow!  https://amul.com/files/hits/amul-hits-3409.jpg   \n",
       "3             Shami- finals!  https://amul.com/files/hits/amul-hits-3408.jpg   \n",
       "4  Sachin wahan – khade -hai  https://amul.com/files/hits/amul-hits-3407.jpg   \n",
       "\n",
       "  Month  \n",
       "0    11  \n",
       "1    11  \n",
       "2    11  \n",
       "3    11  \n",
       "4    11  "
      ]
     },
     "execution_count": 49,
     "metadata": {},
     "output_type": "execute_result"
    }
   ],
   "source": [
    "amul_hits.head()"
   ]
  },
  {
   "cell_type": "code",
   "execution_count": 50,
   "metadata": {},
   "outputs": [
    {
     "ename": "KeyboardInterrupt",
     "evalue": "",
     "output_type": "error",
     "traceback": [
      "\u001b[0;31m---------------------------------------------------------------------------\u001b[0m",
      "\u001b[0;31mKeyboardInterrupt\u001b[0m                         Traceback (most recent call last)",
      "\u001b[1;32m/Users/siddish/amul/scrape_bing_news_headlines.ipynb Cell 9\u001b[0m line \u001b[0;36m7\n\u001b[1;32m      <a href='vscode-notebook-cell:/Users/siddish/amul/scrape_bing_news_headlines.ipynb#X30sZmlsZQ%3D%3D?line=4'>5</a>\u001b[0m title, description \u001b[39m=\u001b[39m get_search_results(row[\u001b[39m\"\u001b[39m\u001b[39mDescription\u001b[39m\u001b[39m\"\u001b[39m] \u001b[39m+\u001b[39m row[\u001b[39m\"\u001b[39m\u001b[39mImage Alt\u001b[39m\u001b[39m\"\u001b[39m], row[\u001b[39m\"\u001b[39m\u001b[39mMonth\u001b[39m\u001b[39m\"\u001b[39m], row[\u001b[39m\"\u001b[39m\u001b[39mYear\u001b[39m\u001b[39m\"\u001b[39m])\n\u001b[1;32m      <a href='vscode-notebook-cell:/Users/siddish/amul/scrape_bing_news_headlines.ipynb#X30sZmlsZQ%3D%3D?line=5'>6</a>\u001b[0m bing_title_descriptions\u001b[39m.\u001b[39mappend((title, description))\n\u001b[0;32m----> <a href='vscode-notebook-cell:/Users/siddish/amul/scrape_bing_news_headlines.ipynb#X30sZmlsZQ%3D%3D?line=6'>7</a>\u001b[0m time\u001b[39m.\u001b[39msleep(\u001b[39m1\u001b[39m)\n",
      "\u001b[0;31mKeyboardInterrupt\u001b[0m: "
     ]
    }
   ],
   "source": [
    "# take first 200 rows and add title and description from bing\n",
    "\n",
    "bing_title_descriptions = []\n",
    "for index, row in amul_hits.iterrows():\n",
    "    title, description = get_search_results(row[\"Description\"] + row[\"Image Alt\"], row[\"Month\"], row[\"Year\"])\n",
    "    bing_title_descriptions.append((title, description))\n",
    "    time.sleep(0.2)"
   ]
  },
  {
   "cell_type": "code",
   "execution_count": 51,
   "metadata": {},
   "outputs": [
    {
     "data": {
      "text/plain": [
       "209"
      ]
     },
     "execution_count": 51,
     "metadata": {},
     "output_type": "execute_result"
    }
   ],
   "source": [
    "len(bing_title_descriptions)"
   ]
  },
  {
   "cell_type": "code",
   "execution_count": 60,
   "metadata": {},
   "outputs": [],
   "source": [
    "amul_hits_copy = amul_hits.copy()"
   ]
  },
  {
   "cell_type": "code",
   "execution_count": 61,
   "metadata": {},
   "outputs": [],
   "source": [
    "titles = [title for title, description in bing_title_descriptions]\n",
    "descriptions = [description for title, description in bing_title_descriptions]\n",
    "titles = titles + [\"\"]*(len(amul_hits_copy) - len(titles))\n",
    "descriptions = descriptions + [\"\"]*(len(amul_hits_copy) - len(descriptions))\n",
    "\n",
    "amul_hits_copy[\"News Title\"] = titles\n",
    "amul_hits_copy[\"News Description\"] = descriptions"
   ]
  },
  {
   "cell_type": "markdown",
   "metadata": {},
   "source": []
  },
  {
   "cell_type": "code",
   "execution_count": 62,
   "metadata": {},
   "outputs": [
    {
     "data": {
      "text/html": [
       "<div>\n",
       "<style scoped>\n",
       "    .dataframe tbody tr th:only-of-type {\n",
       "        vertical-align: middle;\n",
       "    }\n",
       "\n",
       "    .dataframe tbody tr th {\n",
       "        vertical-align: top;\n",
       "    }\n",
       "\n",
       "    .dataframe thead th {\n",
       "        text-align: right;\n",
       "    }\n",
       "</style>\n",
       "<table border=\"1\" class=\"dataframe\">\n",
       "  <thead>\n",
       "    <tr style=\"text-align: right;\">\n",
       "      <th></th>\n",
       "      <th>Year</th>\n",
       "      <th>Description</th>\n",
       "      <th>Image Alt</th>\n",
       "      <th>Image Link</th>\n",
       "      <th>Month</th>\n",
       "      <th>News Title</th>\n",
       "      <th>News Description</th>\n",
       "    </tr>\n",
       "  </thead>\n",
       "  <tbody>\n",
       "    <tr>\n",
       "      <th>0</th>\n",
       "      <td>2023</td>\n",
       "      <td>The Aussie all-rounder played one of ODI’s gre...</td>\n",
       "      <td>LeGlennndary!</td>\n",
       "      <td>https://amul.com/files/hits/amul-hits-3411.jpg</td>\n",
       "      <td>11</td>\n",
       "      <td>AUS vs BAN ODI World Cup: Predicted playing XI...</td>\n",
       "      <td>Check out all the details related to Australia...</td>\n",
       "    </tr>\n",
       "    <tr>\n",
       "      <th>1</th>\n",
       "      <td>2023</td>\n",
       "      <td>Our two batting superstars are level at 49 ODI...</td>\n",
       "      <td>Kohli matches Tondukar!</td>\n",
       "      <td>https://amul.com/files/hits/amul-hits-3410.jpg</td>\n",
       "      <td>11</td>\n",
       "      <td>Top Run-Scorers and Wicket-Takers in ICC Crick...</td>\n",
       "      <td>Check out the list of highest run scorers and ...</td>\n",
       "    </tr>\n",
       "    <tr>\n",
       "      <th>2</th>\n",
       "      <td>2023</td>\n",
       "      <td>The latest meme to trend the internet… - (Nov’...</td>\n",
       "      <td>Just cooking like a wow!</td>\n",
       "      <td>https://amul.com/files/hits/amul-hits-3409.jpg</td>\n",
       "      <td>11</td>\n",
       "      <td>‘Just cooking like a wow’: Amul joins popular ...</td>\n",
       "      <td>Dairy brand Amul, which is known for its creat...</td>\n",
       "    </tr>\n",
       "    <tr>\n",
       "      <th>3</th>\n",
       "      <td>2023</td>\n",
       "      <td>India’s great opening bowler helps India reach...</td>\n",
       "      <td>Shami- finals!</td>\n",
       "      <td>https://amul.com/files/hits/amul-hits-3408.jpg</td>\n",
       "      <td>11</td>\n",
       "      <td>Is India&amp;#39;s bowling attack the best ever at...</td>\n",
       "      <td>They have certainly staked their claim through...</td>\n",
       "    </tr>\n",
       "    <tr>\n",
       "      <th>4</th>\n",
       "      <td>2023</td>\n",
       "      <td>Tendulkar’s statue built at Wankhede Stadium! ...</td>\n",
       "      <td>Sachin wahan – khade -hai</td>\n",
       "      <td>https://amul.com/files/hits/amul-hits-3407.jpg</td>\n",
       "      <td>11</td>\n",
       "      <td>Sachin Tendulkar unveiled his life-size statue...</td>\n",
       "      <td>IT didn’t take time for Sachin Tendulkar to tu...</td>\n",
       "    </tr>\n",
       "  </tbody>\n",
       "</table>\n",
       "</div>"
      ],
      "text/plain": [
       "   Year                                        Description  \\\n",
       "0  2023  The Aussie all-rounder played one of ODI’s gre...   \n",
       "1  2023  Our two batting superstars are level at 49 ODI...   \n",
       "2  2023  The latest meme to trend the internet… - (Nov’...   \n",
       "3  2023  India’s great opening bowler helps India reach...   \n",
       "4  2023  Tendulkar’s statue built at Wankhede Stadium! ...   \n",
       "\n",
       "                   Image Alt                                      Image Link  \\\n",
       "0              LeGlennndary!  https://amul.com/files/hits/amul-hits-3411.jpg   \n",
       "1    Kohli matches Tondukar!  https://amul.com/files/hits/amul-hits-3410.jpg   \n",
       "2   Just cooking like a wow!  https://amul.com/files/hits/amul-hits-3409.jpg   \n",
       "3             Shami- finals!  https://amul.com/files/hits/amul-hits-3408.jpg   \n",
       "4  Sachin wahan – khade -hai  https://amul.com/files/hits/amul-hits-3407.jpg   \n",
       "\n",
       "  Month                                         News Title  \\\n",
       "0    11  AUS vs BAN ODI World Cup: Predicted playing XI...   \n",
       "1    11  Top Run-Scorers and Wicket-Takers in ICC Crick...   \n",
       "2    11  ‘Just cooking like a wow’: Amul joins popular ...   \n",
       "3    11  Is India&#39;s bowling attack the best ever at...   \n",
       "4    11  Sachin Tendulkar unveiled his life-size statue...   \n",
       "\n",
       "                                    News Description  \n",
       "0  Check out all the details related to Australia...  \n",
       "1  Check out the list of highest run scorers and ...  \n",
       "2  Dairy brand Amul, which is known for its creat...  \n",
       "3  They have certainly staked their claim through...  \n",
       "4  IT didn’t take time for Sachin Tendulkar to tu...  "
      ]
     },
     "execution_count": 62,
     "metadata": {},
     "output_type": "execute_result"
    }
   ],
   "source": [
    "amul_hits_copy.head()"
   ]
  },
  {
   "cell_type": "code",
   "execution_count": 63,
   "metadata": {},
   "outputs": [],
   "source": [
    "# save to csv\n",
    "amul_hits_copy.to_csv(\"amul_hits_with_news.csv\", index=False)"
   ]
  },
  {
   "cell_type": "code",
   "execution_count": null,
   "metadata": {},
   "outputs": [],
   "source": [
    "# take first 1000 rows and add title and description from bing\n",
    "current_index = 0\n",
    "bing_title_descriptions_newer = []\n",
    "for index, row in amul_hits_copy.iterrows():\n",
    "    if current_index >= 1002:\n",
    "        break\n",
    "    current_index += 1\n",
    "    if row[\"News Title\"] != \"\":\n",
    "        continue\n",
    "    print(index)\n",
    "    title, description = get_search_results(\n",
    "        row[\"Description\"] + row[\"Image Alt\"],\n",
    "        12 if row[\"Month\"] == \"dec\" else row[\"Month\"],\n",
    "        row[\"Year\"]\n",
    "    )\n",
    "    bing_title_descriptions_newer.append((title, description))\n",
    "    amul_hits_copy.loc[index, \"News Title\"] = title\n",
    "    amul_hits_copy.loc[index, \"News Description\"] = description\n",
    "    time.sleep(0.2)"
   ]
  },
  {
   "cell_type": "code",
   "execution_count": 74,
   "metadata": {},
   "outputs": [
    {
     "data": {
      "text/plain": [
       "Year                                                             2017\n",
       "Description                     Tribute to a great leader.  – Sep’ 17\n",
       "Image Alt                          The Force will always be with you…\n",
       "Image Link             https://amul.com/files/hits/amul-hits-2473.jpg\n",
       "Month                                                               9\n",
       "News Title          Bangladesh PM Hasina&#39;s daughter Saima Waze...\n",
       "News Description    Bangladesh on Wednesday said the election of S...\n",
       "Name: 700, dtype: object"
      ]
     },
     "execution_count": 74,
     "metadata": {},
     "output_type": "execute_result"
    }
   ],
   "source": [
    "# 1000th row\n",
    "amul_hits_copy.loc[700]"
   ]
  },
  {
   "cell_type": "code",
   "execution_count": 75,
   "metadata": {},
   "outputs": [],
   "source": [
    "amul_hits_copy.to_csv(\"amul_hits_with_news.csv\", index=False)"
   ]
  },
  {
   "cell_type": "code",
   "execution_count": null,
   "metadata": {},
   "outputs": [],
   "source": []
  }
 ],
 "metadata": {
  "kernelspec": {
   "display_name": "amul",
   "language": "python",
   "name": "python3"
  },
  "language_info": {
   "codemirror_mode": {
    "name": "ipython",
    "version": 3
   },
   "file_extension": ".py",
   "mimetype": "text/x-python",
   "name": "python",
   "nbconvert_exporter": "python",
   "pygments_lexer": "ipython3",
   "version": "3.11.5"
  }
 },
 "nbformat": 4,
 "nbformat_minor": 2
}
