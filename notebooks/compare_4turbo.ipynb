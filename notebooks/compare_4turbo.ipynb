{
 "cells": [
  {
   "cell_type": "code",
   "execution_count": 3,
   "metadata": {},
   "outputs": [],
   "source": [
    "import json"
   ]
  },
  {
   "cell_type": "code",
   "execution_count": 4,
   "metadata": {},
   "outputs": [],
   "source": [
    "few_shot_messages = json.load(open('few_shot.json'))"
   ]
  },
  {
   "cell_type": "code",
   "execution_count": 8,
   "metadata": {},
   "outputs": [
    {
     "name": "stdout",
     "output_type": "stream",
     "text": [
      "Richard Branson takes off first in space tourism race!: The context here is Richard Branson's significant achievement in space tourism. The audience would likely be those interested in space, technology, innovation, and the billionaires' race for space exploration.\n",
      "\n",
      "Let's start with 'Richard Branson', 'Rich' and 'Branson'. 'Rich'... 'Rich taste', 'Enrich', 'Reach', tying into the idea of space travel being a 'reach' for the stars. 'Branson' doesn't lend itself easily to puns. \n",
      "\n",
      "Let's try a homophonic pun. 'Branson' sounds like 'braun-son', 'bran-son', 'bronze-on'. Maybe a wordplay on 'bronze' because it's a medal, but he's taken the lead, so he deserves gold? But let's not go for the obvious.\n",
      "\n",
      "Now, let's think about the space tourism aspect. 'Space'... 'spacious', 'splice', 'spice'... 'Tourism'... 'tour', 'pure-ism', 'spore-ism'. None of these seem to fit the context of space tourism.\n",
      "\n",
      "Wait, 'Virgin Galactic'! That's Branson's spaceflight company. 'Virgin'... 'begin', 'surging'. 'Galactic'... 'galactic' is already a word that invokes the vastness of space.\n",
      "\n",
      "But let's not settle just yet, let's explore some more. Maybe a cultural reference? Richard Branson and space tourism are global, so we need something that resonates universally.\n",
      "\n",
      "Going back to the 'Virgin Galactic', the word 'galactic' reminds me of 'galaxy', which could be linked to 'galaxy of stars'. And in a way, Amul butter is also a star in its own right. \n",
      "\n",
      "The mainline could be \"Truly Galactic Taste!\". It's an assertion that Amul's taste is out of this world, much like Branson's venture into space.\n",
      "\n",
      "Now for the tagline, we need something that ties space exploration and Amul together with a sense of pioneering and excellence. Let's try a few variations:\n",
      "\n",
      "1. \"Amul: The Taste of New Frontiers\"\n",
      "2. \"Amul: Pioneering Deliciousness\"\n",
      "3. \"Amul: A Universal Delight\"\n",
      "4. \"Amul: Savor the Milky Way\"\n",
      "\n",
      "After considering these, \"Amul: Savor the Milky Way\" seems to be the best fit. It cleverly plays on the space theme using 'Milky Way', a galaxy name, and ties it to the dairy context of Amul.\n",
      "\n",
      "Mainline: Truly Galactic Taste!\n",
      "Tagline: Amul: Savor the Milky Way\n"
     ]
    }
   ],
   "source": [
    "import requests\n",
    "OPENAI_API_KEY = \"sk-\"\n",
    "\n",
    "url = \"https://api.openai.com/v1/chat/completions\"\n",
    "\n",
    "headers = {\n",
    "    \"Content-Type\": \"application/json\",\n",
    "    \"Authorization\": f\"Bearer {OPENAI_API_KEY}\",\n",
    "}\n",
    "data = {\n",
    "    \"model\": \"gpt-4-1106-preview\",\n",
    "    \"messages\": few_shot_messages + [{\n",
    "        \"role\": \"user\",\n",
    "        \"content\": \"Situation: Richard Branson takes off first in space tourism race!\"\n",
    "    }],\n",
    "    \"temperature\": 1,\n",
    "    \"max_tokens\": 700,\n",
    "}\n",
    "\n",
    "print(requests.post(url, json=data, headers=headers).json()['choices'][0]['message']['content'])"
   ]
  },
  {
   "cell_type": "code",
   "execution_count": 1,
   "metadata": {},
   "outputs": [],
   "source": [
    "!export REPLICATE_API_TOKEN="
   ]
  },
  {
   "cell_type": "code",
   "execution_count": 4,
   "metadata": {},
   "outputs": [
    {
     "name": "stdout",
     "output_type": "stream",
     "text": [
      "['https://replicate.delivery/pbxt/ftTrYMAjkoTaeEQg2WWvopeQ2BYJflyYHs4HBkmMi55wRLdHB/out-0.png']\n"
     ]
    }
   ],
   "source": [
    "import os\n",
    "os.environ['REPLICATE_API_TOKEN'] = \"\"\n",
    "\n",
    "import replicate\n",
    "\n",
    "os.environ['REPLICATE_API_TOKEN'] = \"\"\n",
    "\n",
    "prompt = \"TOK\"\n",
    "\n",
    "output = replicate.run(\n",
    "  \"zylim0702/sdxl-lora-customize-model:5a2b1cff79a2cf60d2a498b424795a90e26b7a3992fbd13b340f73ff4942b81e\",\n",
    "  input={\n",
    "    \"width\": 400,\n",
    "    \"height\": 400,\n",
    "    \"prompt\": \"a photo of \" + prompt.replace(\"Amul girl\", \"TOK\").replace(\"amul girl\", \"TOK\").replace(\"girl\", \"TOK\"),\n",
    "    \"refine\": \"expert_ensemble_refiner\",\n",
    "    \"Lora_url\": \"https://replicate.delivery/pbxt/RLwauYvGEqIPI9FVirNw66BZ2RWgy0xOVFYbm4cFCpmjozdE/trained_model.tar\",\n",
    "    \"scheduler\": \"K_EULER\",\n",
    "    \"lora_scale\": 1,\n",
    "    \"num_outputs\": 1,\n",
    "    \"guidance_scale\": 7.5,\n",
    "    # \"apply_watermark\": True,\n",
    "    \"high_noise_frac\": 1,\n",
    "    \"negative_prompt\": \"text, caption\",\n",
    "    \"prompt_strength\": 0.8,\n",
    "    \"num_inference_steps\": 250\n",
    "  }\n",
    ")\n",
    "print(output)"
   ]
  },
  {
   "cell_type": "code",
   "execution_count": null,
   "metadata": {},
   "outputs": [],
   "source": []
  }
 ],
 "metadata": {
  "kernelspec": {
   "display_name": "amul",
   "language": "python",
   "name": "python3"
  },
  "language_info": {
   "codemirror_mode": {
    "name": "ipython",
    "version": 3
   },
   "file_extension": ".py",
   "mimetype": "text/x-python",
   "name": "python",
   "nbconvert_exporter": "python",
   "pygments_lexer": "ipython3",
   "version": "3.11.5"
  }
 },
 "nbformat": 4,
 "nbformat_minor": 2
}
